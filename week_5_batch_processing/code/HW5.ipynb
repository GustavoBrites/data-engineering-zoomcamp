{
 "cells": [
  {
   "cell_type": "code",
   "execution_count": 1,
   "id": "5f8b8aef",
   "metadata": {},
   "outputs": [],
   "source": [
    "import pyspark\n",
    "from pyspark.sql import SparkSession\n",
    "\n",
    "spark = SparkSession.builder \\\n",
    "    .master(\"local[*]\") \\\n",
    "    .appName('test') \\\n",
    "    .getOrCreate()"
   ]
  },
  {
   "cell_type": "code",
   "execution_count": 2,
   "id": "0c80f773",
   "metadata": {},
   "outputs": [],
   "source": [
    "df_fhvhv_2021_02 = spark.read.parquet('fhvhv/2021/02/')"
   ]
  },
  {
   "cell_type": "code",
   "execution_count": 3,
   "id": "1d36c19e",
   "metadata": {},
   "outputs": [
    {
     "data": {
      "text/plain": [
       "['hvfhs_license_num',\n",
       " 'dispatching_base_num',\n",
       " 'pickup_datetime',\n",
       " 'dropoff_datetime',\n",
       " 'PULocationID',\n",
       " 'DOLocationID',\n",
       " 'SR_Flag']"
      ]
     },
     "execution_count": 3,
     "metadata": {},
     "output_type": "execute_result"
    }
   ],
   "source": [
    "df_fhvhv_2021_02.columns"
   ]
  },
  {
   "cell_type": "code",
   "execution_count": 5,
   "id": "9cab9c93",
   "metadata": {},
   "outputs": [],
   "source": [
    "df_fhvhv_2021_02.registerTempTable('fhvhv_hw_data')"
   ]
  },
  {
   "cell_type": "code",
   "execution_count": 36,
   "id": "c81476e6",
   "metadata": {},
   "outputs": [
    {
     "name": "stdout",
     "output_type": "stream",
     "text": [
      "+-----------------+--------------------+-------------------+-------------------+------------+------------+-------+\n",
      "|hvfhs_license_num|dispatching_base_num|    pickup_datetime|   dropoff_datetime|PULocationID|DOLocationID|SR_Flag|\n",
      "+-----------------+--------------------+-------------------+-------------------+------------+------------+-------+\n",
      "|           HV0003|              B02875|2021-02-03 07:54:48|2021-02-03 08:15:19|         146|         162|   null|\n",
      "|           HV0003|              B02880|2021-02-03 07:21:31|2021-02-03 07:29:04|         203|         203|   null|\n",
      "|           HV0005|              B02510|2021-02-01 10:25:26|2021-02-01 10:39:45|         203|         218|   null|\n",
      "|           HV0003|              B02617|2021-02-04 07:15:42|2021-02-04 07:28:01|          32|         220|   null|\n",
      "|           HV0003|              B02883|2021-02-02 13:13:52|2021-02-02 13:23:13|          24|          75|   null|\n",
      "|           HV0003|              B02764|2021-02-02 08:43:57|2021-02-02 08:53:46|         108|          29|   null|\n",
      "|           HV0005|              B02510|2021-02-03 17:13:19|2021-02-03 17:32:58|         232|         129|   null|\n",
      "|           HV0003|              B02872|2021-02-03 14:14:57|2021-02-03 14:23:35|         219|         132|   null|\n",
      "|           HV0003|              B02867|2021-02-02 14:51:58|2021-02-02 15:05:57|         231|         164|   null|\n",
      "|           HV0003|              B02887|2021-02-03 02:20:29|2021-02-03 02:27:04|          17|         225|   null|\n",
      "|           HV0005|              B02510|2021-02-04 07:09:43|2021-02-04 07:29:27|         158|         236|   null|\n",
      "|           HV0003|              B02765|2021-02-02 09:33:43|2021-02-02 09:43:52|          61|         188|   null|\n",
      "|           HV0005|              B02510|2021-02-01 10:26:18|2021-02-01 10:32:37|         234|         249|   null|\n",
      "|           HV0005|              B02510|2021-02-03 21:19:30|2021-02-03 21:30:16|         246|         161|   null|\n",
      "|           HV0003|              B02764|2021-02-03 01:23:40|2021-02-03 01:49:37|         113|         225|   null|\n",
      "|           HV0003|              B02875|2021-02-01 15:53:22|2021-02-01 16:01:27|          56|         173|   null|\n",
      "|           HV0003|              B02883|2021-02-04 07:45:21|2021-02-04 07:56:44|         239|         236|   null|\n",
      "|           HV0003|              B02883|2021-02-04 02:19:35|2021-02-04 02:52:34|         243|         132|   null|\n",
      "|           HV0005|              B02510|2021-02-03 11:30:05|2021-02-03 11:42:55|          78|          18|   null|\n",
      "|           HV0003|              B02765|2021-02-03 09:15:04|2021-02-03 09:44:41|          71|          76|   null|\n",
      "+-----------------+--------------------+-------------------+-------------------+------------+------------+-------+\n",
      "only showing top 20 rows\n",
      "\n"
     ]
    }
   ],
   "source": [
    "df_fhvhv_2021_02.show()"
   ]
  },
  {
   "cell_type": "code",
   "execution_count": 20,
   "id": "32b13520",
   "metadata": {},
   "outputs": [
    {
     "name": "stdout",
     "output_type": "stream",
     "text": [
      "root\n",
      " |-- hvfhs_license_num: string (nullable = true)\n",
      " |-- dispatching_base_num: string (nullable = true)\n",
      " |-- pickup_datetime: timestamp (nullable = true)\n",
      " |-- dropoff_datetime: timestamp (nullable = true)\n",
      " |-- PULocationID: integer (nullable = true)\n",
      " |-- DOLocationID: integer (nullable = true)\n",
      " |-- SR_Flag: string (nullable = true)\n",
      "\n"
     ]
    }
   ],
   "source": [
    "df_fhvhv_2021_02.printSchema()"
   ]
  },
  {
   "cell_type": "code",
   "execution_count": 13,
   "id": "c5369e56",
   "metadata": {},
   "outputs": [
    {
     "name": "stdout",
     "output_type": "stream",
     "text": [
      "+---------------+--------+\n",
      "|pickup_datetime|count(1)|\n",
      "+---------------+--------+\n",
      "|     2021-02-15|  367170|\n",
      "+---------------+--------+\n",
      "\n"
     ]
    }
   ],
   "source": [
    "spark.sql(\"\"\"\n",
    "SELECT\n",
    "    CAST(pickup_datetime AS DATE),\n",
    "    count(1)\n",
    "FROM\n",
    "    fhvhv_hw_data\n",
    "WHERE \n",
    "    CAST(pickup_datetime AS DATE) = '2021-02-15'\n",
    "GROUP BY\n",
    "    CAST(pickup_datetime AS DATE)\n",
    "\"\"\").show()"
   ]
  },
  {
   "cell_type": "code",
   "execution_count": 28,
   "id": "a2e47099",
   "metadata": {},
   "outputs": [
    {
     "name": "stdout",
     "output_type": "stream",
     "text": [
      "+--------------------+---------------+\n",
      "|duration_single_trip|pickup_datetime|\n",
      "+--------------------+---------------+\n",
      "|               75540|     2021-02-11|\n",
      "|               57221|     2021-02-17|\n",
      "|               44039|     2021-02-20|\n",
      "|               40653|     2021-02-03|\n",
      "|               37577|     2021-02-19|\n",
      "|               35010|     2021-02-25|\n",
      "|               34806|     2021-02-20|\n",
      "|               34612|     2021-02-18|\n",
      "|               34555|     2021-02-18|\n",
      "|               34169|     2021-02-10|\n",
      "|               32476|     2021-02-10|\n",
      "|               32439|     2021-02-25|\n",
      "|               32223|     2021-02-21|\n",
      "|               32087|     2021-02-09|\n",
      "|               31447|     2021-02-06|\n",
      "|               30913|     2021-02-02|\n",
      "|               30856|     2021-02-10|\n",
      "|               30732|     2021-02-09|\n",
      "|               30660|     2021-02-21|\n",
      "|               30511|     2021-02-05|\n",
      "+--------------------+---------------+\n",
      "only showing top 20 rows\n",
      "\n"
     ]
    }
   ],
   "source": [
    "spark.sql(\"\"\"\n",
    "SELECT\n",
    "    unix_timestamp(dropoff_datetime, 'yyyy-MM-dd HH:mm:ss') - unix_timestamp(pickup_datetime, 'yyyy-MM-dd HH:mm:ss') AS duration_single_trip,\n",
    "    CAST(pickup_datetime AS DATE)\n",
    "FROM\n",
    "    fhvhv_hw_data\n",
    "ORDER BY\n",
    "    duration_single_trip DESC\n",
    "\"\"\").show()"
   ]
  },
  {
   "cell_type": "code",
   "execution_count": 32,
   "id": "b48d8228",
   "metadata": {},
   "outputs": [
    {
     "name": "stdout",
     "output_type": "stream",
     "text": [
      "+--------------------+---------+\n",
      "|dispatching_base_num|Frequency|\n",
      "+--------------------+---------+\n",
      "|              B02510|  3233664|\n",
      "+--------------------+---------+\n",
      "\n"
     ]
    }
   ],
   "source": [
    "df_dispatch = \\\n",
    "spark.sql(\"\"\"\n",
    "SELECT\n",
    "    dispatching_base_num,\n",
    "    count(1) AS Frequency\n",
    "FROM\n",
    "    fhvhv_hw_data\n",
    "GROUP BY\n",
    "    dispatching_base_num\n",
    "ORDER BY\n",
    "    Frequency DESC\n",
    "LIMIT\n",
    "    1\n",
    "\"\"\").show()"
   ]
  },
  {
   "cell_type": "code",
   "execution_count": 34,
   "id": "dcdcf6a6",
   "metadata": {},
   "outputs": [],
   "source": [
    "zones = spark.read.parquet('zones/')"
   ]
  },
  {
   "cell_type": "code",
   "execution_count": 35,
   "id": "9951c04f",
   "metadata": {},
   "outputs": [
    {
     "name": "stdout",
     "output_type": "stream",
     "text": [
      "+----------+-------------+--------------------+------------+\n",
      "|LocationID|      Borough|                Zone|service_zone|\n",
      "+----------+-------------+--------------------+------------+\n",
      "|         1|          EWR|      Newark Airport|         EWR|\n",
      "|         2|       Queens|         Jamaica Bay|   Boro Zone|\n",
      "|         3|        Bronx|Allerton/Pelham G...|   Boro Zone|\n",
      "|         4|    Manhattan|       Alphabet City| Yellow Zone|\n",
      "|         5|Staten Island|       Arden Heights|   Boro Zone|\n",
      "|         6|Staten Island|Arrochar/Fort Wad...|   Boro Zone|\n",
      "|         7|       Queens|             Astoria|   Boro Zone|\n",
      "|         8|       Queens|        Astoria Park|   Boro Zone|\n",
      "|         9|       Queens|          Auburndale|   Boro Zone|\n",
      "|        10|       Queens|        Baisley Park|   Boro Zone|\n",
      "|        11|     Brooklyn|          Bath Beach|   Boro Zone|\n",
      "|        12|    Manhattan|        Battery Park| Yellow Zone|\n",
      "|        13|    Manhattan|   Battery Park City| Yellow Zone|\n",
      "|        14|     Brooklyn|           Bay Ridge|   Boro Zone|\n",
      "|        15|       Queens|Bay Terrace/Fort ...|   Boro Zone|\n",
      "|        16|       Queens|             Bayside|   Boro Zone|\n",
      "|        17|     Brooklyn|             Bedford|   Boro Zone|\n",
      "|        18|        Bronx|        Bedford Park|   Boro Zone|\n",
      "|        19|       Queens|           Bellerose|   Boro Zone|\n",
      "|        20|        Bronx|             Belmont|   Boro Zone|\n",
      "+----------+-------------+--------------------+------------+\n",
      "only showing top 20 rows\n",
      "\n"
     ]
    }
   ],
   "source": [
    "zones.show()"
   ]
  },
  {
   "cell_type": "code",
   "execution_count": 44,
   "id": "e2ac66b0",
   "metadata": {},
   "outputs": [],
   "source": [
    "zones.registerTempTable('zones')"
   ]
  },
  {
   "cell_type": "code",
   "execution_count": 45,
   "id": "eedfd62b",
   "metadata": {},
   "outputs": [
    {
     "name": "stdout",
     "output_type": "stream",
     "text": [
      "+--------------------+---------+\n",
      "|           bothzones|Frequency|\n",
      "+--------------------+---------+\n",
      "|East New York/Eas...|    45041|\n",
      "|Borough Park/Boro...|    37329|\n",
      "|   Canarsie/Canarsie|    28026|\n",
      "|Crown Heights Nor...|    25976|\n",
      "| Bay Ridge/Bay Ridge|    17934|\n",
      "|Jackson Heights/J...|    14688|\n",
      "|     Astoria/Astoria|    14688|\n",
      "|Central Harlem No...|    14481|\n",
      "|Bushwick South/Bu...|    14424|\n",
      "|Flatbush/Ditmas P...|    13976|\n",
      "|South Ozone Park/...|    13716|\n",
      "|Brownsville/Brown...|    12829|\n",
      "|      JFK Airport/NA|    12542|\n",
      "|Prospect-Lefferts...|    11814|\n",
      "|Forest Hills/Fore...|    11548|\n",
      "|Bushwick North/Bu...|    11491|\n",
      "|Bushwick South/Bu...|    11487|\n",
      "|Crown Heights Nor...|    11462|\n",
      "|Crown Heights Nor...|    11342|\n",
      "|Prospect-Lefferts...|    11308|\n",
      "+--------------------+---------+\n",
      "only showing top 20 rows\n",
      "\n"
     ]
    }
   ],
   "source": [
    "df_join = \\\n",
    "spark.sql(\"\"\"\n",
    "SELECT \n",
    "CONCAT(zpu.Zone, '/', zdo.Zone) AS bothzones,\n",
    "count(1) AS Frequency\n",
    "FROM \n",
    "fhvhv_hw_data fhvhv \n",
    "FULL OUTER JOIN zones zpu \n",
    "ON \n",
    "fhvhv.PULocationID = zpu.LocationID\n",
    "FULL OUTER JOIN zones zdo\n",
    "ON\n",
    "fhvhv.DOLocationID = zdo.LocationID\n",
    "GROUP BY bothzones\n",
    "ORDER BY Frequency DESC\n",
    "\"\"\").show()"
   ]
  }
 ],
 "metadata": {
  "kernelspec": {
   "display_name": "Python 3 (ipykernel)",
   "language": "python",
   "name": "python3"
  },
  "language_info": {
   "codemirror_mode": {
    "name": "ipython",
    "version": 3
   },
   "file_extension": ".py",
   "mimetype": "text/x-python",
   "name": "python",
   "nbconvert_exporter": "python",
   "pygments_lexer": "ipython3",
   "version": "3.9.6"
  }
 },
 "nbformat": 4,
 "nbformat_minor": 5
}
